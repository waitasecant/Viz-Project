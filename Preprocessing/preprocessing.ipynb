{
 "cells": [
  {
   "cell_type": "code",
   "execution_count": 14,
   "metadata": {},
   "outputs": [],
   "source": [
    "# Importing Packages\n",
    "import pandas as pd\n",
    "from datetime import datetime, timedelta"
   ]
  },
  {
   "cell_type": "code",
   "execution_count": 2,
   "metadata": {},
   "outputs": [
    {
     "name": "stdout",
     "output_type": "stream",
     "text": [
      "(60250, 15)\n"
     ]
    }
   ],
   "source": [
    "df = pd.read_csv(\"delhi_data.csv\")\n",
    "print(df.shape)"
   ]
  },
  {
   "cell_type": "code",
   "execution_count": 3,
   "metadata": {},
   "outputs": [],
   "source": [
    "# Taking stations with constant entries for ease of analysis\n",
    "df[\"siteCode\"] = [i[5:] for i in df[\"siteCode\"]]\n",
    "st_list = [str(i) for i in range(1420,1436)]\n",
    "boolList = [True if i in st_list else False for i in df[\"siteCode\"]]\n",
    "df = df[pd.Series(boolList)]\n",
    "df.reset_index(drop=\"index\", inplace=True)"
   ]
  },
  {
   "cell_type": "code",
   "execution_count": 4,
   "metadata": {},
   "outputs": [],
   "source": [
    "# Changing dtype of siteCode and PM2.5, drop columns\n",
    "df[\"siteCode\"] = [int(i) for i in df[\"siteCode\"]]\n",
    "df[\"PM2.5\"] = [float(i) for i in df[\"PM2.5\"]]\n",
    "df.drop(columns=[\"toDate\", \"fromTime\", \"toTime\", \"cityName\", \"stateName\"], inplace=True)\n"
   ]
  },
  {
   "cell_type": "code",
   "execution_count": 5,
   "metadata": {},
   "outputs": [],
   "source": [
    "# Changing date to DateTime format\n",
    "df[\"fromDate\"] = [datetime.strptime(d, \"%d-%b-%y\") for d in df[\"fromDate\"]]\n",
    "df.rename(columns={\"fromDate\":\"Date\"}, inplace=True)"
   ]
  },
  {
   "cell_type": "code",
   "execution_count": 6,
   "metadata": {},
   "outputs": [
    {
     "data": {
      "text/html": [
       "<div>\n",
       "<style scoped>\n",
       "    .dataframe tbody tr th:only-of-type {\n",
       "        vertical-align: middle;\n",
       "    }\n",
       "\n",
       "    .dataframe tbody tr th {\n",
       "        vertical-align: top;\n",
       "    }\n",
       "\n",
       "    .dataframe thead th {\n",
       "        text-align: right;\n",
       "    }\n",
       "</style>\n",
       "<table border=\"1\" class=\"dataframe\">\n",
       "  <thead>\n",
       "    <tr style=\"text-align: right;\">\n",
       "      <th></th>\n",
       "      <th>siteName</th>\n",
       "      <th>siteCode</th>\n",
       "      <th>Date</th>\n",
       "      <th>PM2.5</th>\n",
       "      <th>PM10</th>\n",
       "      <th>NO2</th>\n",
       "      <th>NH3</th>\n",
       "      <th>SO2</th>\n",
       "      <th>CO</th>\n",
       "      <th>Ozone</th>\n",
       "    </tr>\n",
       "  </thead>\n",
       "  <tbody>\n",
       "    <tr>\n",
       "      <th>0</th>\n",
       "      <td>Ashok Vihar</td>\n",
       "      <td>1420</td>\n",
       "      <td>2018-02-08</td>\n",
       "      <td>236.96</td>\n",
       "      <td>405.79</td>\n",
       "      <td>109.97</td>\n",
       "      <td>31.45</td>\n",
       "      <td>11.20</td>\n",
       "      <td>1.42</td>\n",
       "      <td>33.42</td>\n",
       "    </tr>\n",
       "    <tr>\n",
       "      <th>1</th>\n",
       "      <td>Ashok Vihar</td>\n",
       "      <td>1420</td>\n",
       "      <td>2018-02-09</td>\n",
       "      <td>250.46</td>\n",
       "      <td>423.21</td>\n",
       "      <td>79.40</td>\n",
       "      <td>33.55</td>\n",
       "      <td>13.24</td>\n",
       "      <td>1.42</td>\n",
       "      <td>39.28</td>\n",
       "    </tr>\n",
       "    <tr>\n",
       "      <th>2</th>\n",
       "      <td>Ashok Vihar</td>\n",
       "      <td>1420</td>\n",
       "      <td>2018-02-10</td>\n",
       "      <td>269.71</td>\n",
       "      <td>498.88</td>\n",
       "      <td>183.86</td>\n",
       "      <td>22.66</td>\n",
       "      <td>7.16</td>\n",
       "      <td>3.03</td>\n",
       "      <td>44.46</td>\n",
       "    </tr>\n",
       "    <tr>\n",
       "      <th>3</th>\n",
       "      <td>Ashok Vihar</td>\n",
       "      <td>1420</td>\n",
       "      <td>2018-02-11</td>\n",
       "      <td>146.42</td>\n",
       "      <td>315.46</td>\n",
       "      <td>41.84</td>\n",
       "      <td>36.72</td>\n",
       "      <td>8.38</td>\n",
       "      <td>1.05</td>\n",
       "      <td>42.96</td>\n",
       "    </tr>\n",
       "    <tr>\n",
       "      <th>4</th>\n",
       "      <td>Ashok Vihar</td>\n",
       "      <td>1420</td>\n",
       "      <td>2018-02-12</td>\n",
       "      <td>82.08</td>\n",
       "      <td>199.92</td>\n",
       "      <td>23.24</td>\n",
       "      <td>34.80</td>\n",
       "      <td>4.43</td>\n",
       "      <td>0.72</td>\n",
       "      <td>37.89</td>\n",
       "    </tr>\n",
       "  </tbody>\n",
       "</table>\n",
       "</div>"
      ],
      "text/plain": [
       "      siteName  siteCode       Date   PM2.5    PM10     NO2    NH3    SO2  \\\n",
       "0  Ashok Vihar      1420 2018-02-08  236.96  405.79  109.97  31.45  11.20   \n",
       "1  Ashok Vihar      1420 2018-02-09  250.46  423.21   79.40  33.55  13.24   \n",
       "2  Ashok Vihar      1420 2018-02-10  269.71  498.88  183.86  22.66   7.16   \n",
       "3  Ashok Vihar      1420 2018-02-11  146.42  315.46   41.84  36.72   8.38   \n",
       "4  Ashok Vihar      1420 2018-02-12   82.08  199.92   23.24  34.80   4.43   \n",
       "\n",
       "     CO  Ozone  \n",
       "0  1.42  33.42  \n",
       "1  1.42  39.28  \n",
       "2  3.03  44.46  \n",
       "3  1.05  42.96  \n",
       "4  0.72  37.89  "
      ]
     },
     "execution_count": 6,
     "metadata": {},
     "output_type": "execute_result"
    }
   ],
   "source": [
    "df.head()"
   ]
  },
  {
   "cell_type": "markdown",
   "metadata": {},
   "source": [
    "---"
   ]
  },
  {
   "cell_type": "code",
   "execution_count": 11,
   "metadata": {},
   "outputs": [
    {
     "name": "stdout",
     "output_type": "stream",
     "text": [
      "(15900, 10)\n"
     ]
    }
   ],
   "source": [
    "# Inserting Id and removing CO\n",
    "\n",
    "df.insert(loc=0, column = \"Id\", value= range(df.shape[0]))\n",
    "df.drop(columns=[\"CO\"], inplace=True)\n",
    "print(df.shape)"
   ]
  },
  {
   "cell_type": "code",
   "execution_count": 12,
   "metadata": {},
   "outputs": [],
   "source": [
    "\"\"\"\n",
    "looping through days from sd to ed\n",
    "    looping through stations as we have entry for each station for each day\n",
    "         if entry is NA (keeping index as i)\n",
    "             look for prev/next 5 days depending upon modulo index\n",
    "                 replace avg of 5 days\n",
    "\"\"\"            \n",
    "sd = datetime(2018, 2, 8)\n",
    "ed = datetime(2021, 1, 2)\n",
    "def fill(par,t):\n",
    "    l = []\n",
    "    for d in range((ed-sd).days + 1):\n",
    "        for i,j in zip(df[\"Id\"][df[\"Date\"] == sd+timedelta(d)], df[par][df[\"Date\"] == sd+timedelta(d)].isna()):\n",
    "            if j == True:\n",
    "                avg = []\n",
    "                for k in range(t):\n",
    "                    if (i%1060) <=530:\n",
    "                        avg.append(float(df[par][df[\"Id\"]==i+k][i+k]))\n",
    "                    else:\n",
    "                        avg.append(float(df[par][df[\"Id\"]==i-k][i-k]))\n",
    "                if sum([i if i>=0 else 0 for i in avg])!=0:\n",
    "                    df.loc[i,par] = sum([i if i>=0 else 0 for i in avg])/5"
   ]
  },
  {
   "cell_type": "code",
   "execution_count": 13,
   "metadata": {},
   "outputs": [],
   "source": [
    "# Executing above code block in two iterations, first four-day average then seven-day average\n",
    "for i in df.columns[4:]:\n",
    "    fill(i,4)\n",
    "    fill(i,7)"
   ]
  },
  {
   "cell_type": "code",
   "execution_count": null,
   "metadata": {},
   "outputs": [
    {
     "data": {
      "text/html": [
       "<div>\n",
       "<style scoped>\n",
       "    .dataframe tbody tr th:only-of-type {\n",
       "        vertical-align: middle;\n",
       "    }\n",
       "\n",
       "    .dataframe tbody tr th {\n",
       "        vertical-align: top;\n",
       "    }\n",
       "\n",
       "    .dataframe thead th {\n",
       "        text-align: right;\n",
       "    }\n",
       "</style>\n",
       "<table border=\"1\" class=\"dataframe\">\n",
       "  <thead>\n",
       "    <tr style=\"text-align: right;\">\n",
       "      <th></th>\n",
       "      <th>Id</th>\n",
       "      <th>siteName</th>\n",
       "      <th>siteCode</th>\n",
       "      <th>Date</th>\n",
       "      <th>PM2.5</th>\n",
       "      <th>PM10</th>\n",
       "      <th>NO2</th>\n",
       "      <th>NH3</th>\n",
       "      <th>SO2</th>\n",
       "      <th>Ozone</th>\n",
       "    </tr>\n",
       "  </thead>\n",
       "  <tbody>\n",
       "    <tr>\n",
       "      <th>0</th>\n",
       "      <td>0</td>\n",
       "      <td>Ashok Vihar</td>\n",
       "      <td>1420</td>\n",
       "      <td>2018-02-08</td>\n",
       "      <td>236.96</td>\n",
       "      <td>405.79</td>\n",
       "      <td>109.97</td>\n",
       "      <td>31.45</td>\n",
       "      <td>11.20</td>\n",
       "      <td>33.42</td>\n",
       "    </tr>\n",
       "    <tr>\n",
       "      <th>1</th>\n",
       "      <td>1</td>\n",
       "      <td>Ashok Vihar</td>\n",
       "      <td>1420</td>\n",
       "      <td>2018-02-09</td>\n",
       "      <td>250.46</td>\n",
       "      <td>423.21</td>\n",
       "      <td>79.40</td>\n",
       "      <td>33.55</td>\n",
       "      <td>13.24</td>\n",
       "      <td>39.28</td>\n",
       "    </tr>\n",
       "    <tr>\n",
       "      <th>2</th>\n",
       "      <td>2</td>\n",
       "      <td>Ashok Vihar</td>\n",
       "      <td>1420</td>\n",
       "      <td>2018-02-10</td>\n",
       "      <td>269.71</td>\n",
       "      <td>498.88</td>\n",
       "      <td>183.86</td>\n",
       "      <td>22.66</td>\n",
       "      <td>7.16</td>\n",
       "      <td>44.46</td>\n",
       "    </tr>\n",
       "    <tr>\n",
       "      <th>3</th>\n",
       "      <td>3</td>\n",
       "      <td>Ashok Vihar</td>\n",
       "      <td>1420</td>\n",
       "      <td>2018-02-11</td>\n",
       "      <td>146.42</td>\n",
       "      <td>315.46</td>\n",
       "      <td>41.84</td>\n",
       "      <td>36.72</td>\n",
       "      <td>8.38</td>\n",
       "      <td>42.96</td>\n",
       "    </tr>\n",
       "    <tr>\n",
       "      <th>4</th>\n",
       "      <td>4</td>\n",
       "      <td>Ashok Vihar</td>\n",
       "      <td>1420</td>\n",
       "      <td>2018-02-12</td>\n",
       "      <td>82.08</td>\n",
       "      <td>199.92</td>\n",
       "      <td>23.24</td>\n",
       "      <td>34.80</td>\n",
       "      <td>4.43</td>\n",
       "      <td>37.89</td>\n",
       "    </tr>\n",
       "  </tbody>\n",
       "</table>\n",
       "</div>"
      ],
      "text/plain": [
       "   Id     siteName  siteCode       Date   PM2.5    PM10     NO2    NH3    SO2  \\\n",
       "0   0  Ashok Vihar      1420 2018-02-08  236.96  405.79  109.97  31.45  11.20   \n",
       "1   1  Ashok Vihar      1420 2018-02-09  250.46  423.21   79.40  33.55  13.24   \n",
       "2   2  Ashok Vihar      1420 2018-02-10  269.71  498.88  183.86  22.66   7.16   \n",
       "3   3  Ashok Vihar      1420 2018-02-11  146.42  315.46   41.84  36.72   8.38   \n",
       "4   4  Ashok Vihar      1420 2018-02-12   82.08  199.92   23.24  34.80   4.43   \n",
       "\n",
       "   Ozone  \n",
       "0  33.42  \n",
       "1  39.28  \n",
       "2  44.46  \n",
       "3  42.96  \n",
       "4  37.89  "
      ]
     },
     "metadata": {},
     "output_type": "display_data"
    }
   ],
   "source": [
    "df.head()"
   ]
  },
  {
   "cell_type": "markdown",
   "metadata": {},
   "source": [
    "---"
   ]
  },
  {
   "cell_type": "code",
   "execution_count": 17,
   "metadata": {},
   "outputs": [],
   "source": [
    "# Removing these stations entries\n",
    "for i in [\"Dr. Karni Singh Shooting Range\", \"Jawaharlal Nehru Stadium\",\n",
    "          \"Major Dhyan Chand National Stadium\", \"Okhla Phase-2\", \"Nehru Nagar\"]:\n",
    "    df = df[df[\"siteName\"]!=i]"
   ]
  },
  {
   "cell_type": "code",
   "execution_count": 18,
   "metadata": {},
   "outputs": [],
   "source": [
    "# Sorting the data by dates! There were jumbled block of dates in some stations.\n",
    "df[\"iDate\"] = [ (d - df[\"Date\"][0]).days for d in df[\"Date\"]]\n",
    "df.sort_values(by= [\"siteName\",\"iDate\"], inplace=True)\n",
    "df.drop(columns=[\"Id\",\"iDate\"], inplace=True, axis = 1)\n",
    "df.reset_index(drop=\"index\", inplace=True)"
   ]
  },
  {
   "cell_type": "code",
   "execution_count": 19,
   "metadata": {},
   "outputs": [],
   "source": [
    "df.to_csv('pre_delhi_data.csv', index=False)"
   ]
  }
 ],
 "metadata": {
  "kernelspec": {
   "display_name": "Python 3",
   "language": "python",
   "name": "python3"
  },
  "language_info": {
   "codemirror_mode": {
    "name": "ipython",
    "version": 3
   },
   "file_extension": ".py",
   "mimetype": "text/x-python",
   "name": "python",
   "nbconvert_exporter": "python",
   "pygments_lexer": "ipython3",
   "version": "3.11.1"
  },
  "orig_nbformat": 4
 },
 "nbformat": 4,
 "nbformat_minor": 2
}
