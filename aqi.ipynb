{
 "cells": [
  {
   "cell_type": "code",
   "execution_count": 16,
   "metadata": {},
   "outputs": [],
   "source": [
    "from openpyxl import load_workbook\n",
    "from xlwings import App\n",
    "import pandas as pd\n",
    "import time"
   ]
  },
  {
   "cell_type": "code",
   "execution_count": 2,
   "metadata": {},
   "outputs": [],
   "source": [
    "df = pd.read_csv(\"final.csv\")\n",
    "df = df.iloc[:,[3,4,6,7]]"
   ]
  },
  {
   "cell_type": "code",
   "execution_count": 3,
   "metadata": {},
   "outputs": [],
   "source": [
    "wb = load_workbook('AQI_Cal.xlsx')\n",
    "ws = wb['Sheet1']"
   ]
  },
  {
   "cell_type": "code",
   "execution_count": 19,
   "metadata": {},
   "outputs": [
    {
     "name": "stdout",
     "output_type": "stream",
     "text": [
      "11.595848798751831\n"
     ]
    }
   ],
   "source": [
    "aqi = []\n",
    "start = time.time()\n",
    "for i in range(10):\n",
    "    l = df.loc[i]\n",
    "    ws[\"C8\"] = l[0]\n",
    "    ws[\"C10\"] = l[1]\n",
    "    ws[\"C12\"] = l[3]\n",
    "    ws[\"C20\"] = l[2]\n",
    "    wb.save(\"AQI_Cal.xlsx\")\n",
    "    excel_app = App(visible=False)\n",
    "    excel_book = excel_app.books.open('AQI_Cal.xlsx')\n",
    "    excel_book.save()\n",
    "    excel_book.close()\n",
    "    excel_app.quit()\n",
    "    wb = load_workbook(filename='AQI_Cal.xlsx', data_only=True)\n",
    "    ws = wb[\"Sheet1\"]\n",
    "    aqi.append(int(ws[\"G11\"].value))\n",
    "end = time.time()\n",
    "print(end - start)"
   ]
  }
 ],
 "metadata": {
  "kernelspec": {
   "display_name": "Python 3",
   "language": "python",
   "name": "python3"
  },
  "language_info": {
   "codemirror_mode": {
    "name": "ipython",
    "version": 3
   },
   "file_extension": ".py",
   "mimetype": "text/x-python",
   "name": "python",
   "nbconvert_exporter": "python",
   "pygments_lexer": "ipython3",
   "version": "3.11.1"
  },
  "orig_nbformat": 4
 },
 "nbformat": 4,
 "nbformat_minor": 2
}
